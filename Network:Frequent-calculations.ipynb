{
 "cells": [
  {
   "cell_type": "markdown",
   "metadata": {},
   "source": [
    "# Frequent Calculations\n",
    "\n",
    "This notebook includes frequent calculations involved while designing a sensor setup using cameras, lidar etc.\n",
    "Currently, we have the following calculators:\n",
    "\n",
    "1. Camera: FPS (frames per second) calculator\n",
    "2. Camera: Overlap calculator\n",
    "3. Camera: Bandwith calculator"
   ]
  },
  {
   "cell_type": "markdown",
   "metadata": {},
   "source": [
    "## Frames per second (FPS) calculator.\n",
    "\n",
    "This calculator computes the FPS for the camera for a desired overlap between consecutive frames (overlap ratio).\n",
    "\n",
    "Input: \n",
    "1. image resolution (height (px) x width (px))\n",
    "2. Field of view (in degrees)\n",
    "3. distance to nearest object (meters)\n",
    "4. max. camera speed (meters/second)\n",
    "5. desired overlap ratio between consecutive frames\n",
    "\n",
    "Output:\n",
    "1. minimum frames per second (FPS) required to meet the desired overlap ratio"
   ]
  },
  {
   "cell_type": "code",
   "execution_count": 8,
   "metadata": {},
   "outputs": [],
   "source": [
    "# User Input\n",
    "image_resolution = [1280, 640]  # height, width in pixels\n",
    "fov_deg = 90                    # horizontal field of view in degrees\n",
    "dist_nearest_object = 10        # in meters \n",
    "max_camera_speed = 10           # in meters per second (1 kmph -> 0.3 m/s)\n",
    "desired_overlap = 0.9           # between 0 to 1 "
   ]
  },
  {
   "cell_type": "code",
   "execution_count": 9,
   "metadata": {},
   "outputs": [
    {
     "name": "stdout",
     "output_type": "stream",
     "text": "Minimum FPS required to have an overlap ratio of 0.9 is : \n 14.14\n"
    }
   ],
   "source": [
    "# Calculate FPS \n",
    "import math\n",
    "\n",
    "fov_rad = fov_deg*(math.pi/180)\n",
    "image_width = image_resolution[0]\n",
    "meters_per_px  = (2*dist_nearest_object*math.sin(fov_rad/2))/image_width\n",
    "px_moved_per_sec = max_camera_speed/meters_per_px\n",
    "fps = (2*px_moved_per_sec)/(image_width - desired_overlap*image_width)  \n",
    "\n",
    "print('Minimum FPS required to have an overlap ratio of {} is : \\n {:.2f}'.format(desired_overlap, fps))"
   ]
  },
  {
   "cell_type": "markdown",
   "metadata": {},
   "source": [
    "## Overlap calculator.\n",
    "\n",
    "This calculator computes the overlap ratio given a FPS of the camera.\n",
    "\n",
    "Input: \n",
    "1. image resolution (height (px) x width (px))\n",
    "2. Field of view (in degrees)\n",
    "3. distance to nearest object (meters)\n",
    "4. max. camera speed (meters/second)\n",
    "5. frames per second (fps)\n",
    "\n",
    "Output:\n",
    "1. overlap ratio"
   ]
  },
  {
   "cell_type": "code",
   "execution_count": 10,
   "metadata": {},
   "outputs": [],
   "source": [
    "# User Input\n",
    "image_resolution = [1280, 640]  # height, width in pixels\n",
    "fov_deg = 90                    # horizontal field of view in degrees\n",
    "dist_nearest_object = 10        # in meters \n",
    "max_camera_speed = 10           # in meters per second (1 kmph -> 0.3 m/s)\n",
    "fps = 15                        # in Hz "
   ]
  },
  {
   "cell_type": "code",
   "execution_count": 11,
   "metadata": {},
   "outputs": [
    {
     "name": "stdout",
     "output_type": "stream",
     "text": "Overlap obtained with an FPS of 15 is : \n 0.91\n"
    }
   ],
   "source": [
    "# Calculate overlap\n",
    "import math\n",
    "\n",
    "fov_rad = fov_deg*(math.pi/180)\n",
    "image_width = image_resolution[0]\n",
    "meters_per_px  = (2*dist_nearest_object*math.sin(fov_rad/2))/image_width\n",
    "px_moved_per_sec = max_camera_speed/meters_per_px\n",
    "\n",
    "overlap =  (image_width - 2*px_moved_per_sec/fps)/image_width  \n",
    "\n",
    "print('Overlap obtained with an FPS of {} is : \\n {:.2f}'.format(fps, overlap))"
   ]
  },
  {
   "cell_type": "markdown",
   "metadata": {},
   "source": [
    "## Bandwidth Calculator\n",
    "\n",
    "This calculator computes the bandwidth consumed by a camera for a given resolution and frame rate.\n",
    "\n",
    "Input: \n",
    "1. image resolution (height (px) x width (px))\n",
    "2. frames per second (fps)\n",
    "\n",
    "Output:\n",
    "1. bandwidth consumed (MB/s)\n"
   ]
  },
  {
   "cell_type": "code",
   "execution_count": 12,
   "metadata": {},
   "outputs": [],
   "source": [
    "# User Input\n",
    "image_resolution = [1280, 640]  # height, width in pixels\n",
    "fps = 30                            # in Hz \n",
    "bytes_per_px = 1                    # depends on pixel format (Mono8, RGB8, Bayer8 ...)"
   ]
  },
  {
   "cell_type": "code",
   "execution_count": 13,
   "metadata": {},
   "outputs": [
    {
     "name": "stdout",
     "output_type": "stream",
     "text": "Bandwidth consumed by camera : \n 24.58 MB/s\nBandwidth consumed by camera : \n 196.61 Mbps\n"
    }
   ],
   "source": [
    "# Calculate bandwidth\n",
    "\n",
    "image_width = image_resolution[0]\n",
    "image_height= image_resolution[1]\n",
    "bandwidth = image_height*image_width*bytes_per_px*fps/1000000\n",
    "\n",
    "print('Bandwidth consumed by camera : \\n {:.2f} MB/s'.format(bandwidth))\n",
    "print('Bandwidth consumed by camera : \\n {:.2f} Mbps'.format(8 * bandwidth))"
   ]
  }
 ],
 "metadata": {
  "kernelspec": {
   "display_name": "Python 3",
   "language": "python",
   "name": "python3"
  },
  "language_info": {
   "codemirror_mode": {
    "name": "ipython",
    "version": 3
   },
   "file_extension": ".py",
   "mimetype": "text/x-python",
   "name": "python",
   "nbconvert_exporter": "python",
   "pygments_lexer": "ipython3",
   "version": "3.7.3"
  }
 },
 "nbformat": 4,
 "nbformat_minor": 2
}